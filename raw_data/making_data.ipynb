{
 "cells": [
  {
   "cell_type": "code",
   "execution_count": 5,
   "id": "2cd94c2d",
   "metadata": {},
   "outputs": [],
   "source": [
    "from sentence_transformers import SentenceTransformer\n",
    "\n",
    "model = SentenceTransformer(\"all-MiniLM-L6-v2\")"
   ]
  },
  {
   "cell_type": "code",
   "execution_count": 11,
   "id": "cf5dbd02",
   "metadata": {},
   "outputs": [],
   "source": [
    "from langchain.text_splitter import RecursiveCharacterTextSplitter\n",
    "import pandas as pd\n",
    "from langchain_core.documents import Document\n",
    "\n",
    "laws_txt_splitter = RecursiveCharacterTextSplitter(chunk_size=800, \n",
    "                                               chunk_overlap=100,\n",
    "                                               separators=['\\n\\n', '\\n', ',', ';', '-', ':', ','])\n",
    "with open('traffic_laws_alok_kumar_hyd_2016.txt', 'r', encoding='utf-8') as f:\n",
    "    text=f.read()\n",
    "chunks1=laws_txt_splitter.split_text(text)\n",
    "df = pd.read_csv('Hyd_challan_fines - Sheet1.csv')\n",
    "doc=[]\n",
    "for i, row in df.iterrows():\n",
    "    text=f'Offence : {row[\"Offences\"]}\\nSection : {row[\"Section\"]}\\nPenalty : {row[\"Maximum Penalty\"]}'\n",
    "    doc.append(Document(page_content=text, metadata={'row':i}))\n",
    "csv_splitter_penalties = RecursiveCharacterTextSplitter(separators=['\\n', '\\n\\n'], chunk_size=500, chunk_overlap=50)\n",
    "chunks2 = csv_splitter_penalties.split_documents(doc)"
   ]
  },
  {
   "cell_type": "code",
   "execution_count": 12,
   "id": "d051819d",
   "metadata": {},
   "outputs": [
    {
     "name": "stdout",
     "output_type": "stream",
     "text": [
      "G.S.R.634(E).— In exercise of the powers conferred by section 118 of the Motor Vehicles Act, 1988 (59 of\n",
      "1988), and in supersession of the Rules of the Road Regulations, 1989, except as respects things done or omitted to be\n",
      "done before such supersession, the Central Government hereby makes the following regulations for the driving of motor\n",
      "vehicles, namely:- \n",
      "1. Short title, extent and commencement.\n",
      "(1) These regulations may be called the Motor Vehicles (Driving)\n",
      "Regulations, 2017.\n",
      "(2) They shall come into force on the date of its publication in the Official Gazette.\n",
      "2. Definitions.- (1) In these regulations, unless the context otherwise requires,-\n",
      "(a) “Act” means the Motor Vehicles Act, 1988 (59 of 1988);\n"
     ]
    }
   ],
   "source": [
    "print(chunks1[0])"
   ]
  },
  {
   "cell_type": "code",
   "execution_count": 14,
   "id": "0e2accbb",
   "metadata": {},
   "outputs": [],
   "source": [
    "import numpy as np\n",
    "embeddings1=model.encode(chunks1, convert_to_numpy=True)\n",
    "chunks2_texts = [doc.page_content for doc in chunks2]\n",
    "embeddings2=model.encode(chunks2_texts, convert_to_numpy=True)\n",
    "embeddings=np.vstack([embeddings1, embeddings2])\n",
    "chunks=chunks1+chunks2_texts"
   ]
  },
  {
   "cell_type": "code",
   "execution_count": 16,
   "id": "2641102e",
   "metadata": {},
   "outputs": [
    {
     "data": {
      "text/plain": [
       "Document(metadata={'row': 0}, page_content='Offence : To drive a vehicle without license.\\nSection : M.V.Act. 181\\nPenalty : Rs. 500/- for two, three, four & Six wheelers.')"
      ]
     },
     "execution_count": 16,
     "metadata": {},
     "output_type": "execute_result"
    }
   ],
   "source": [
    "chunks2[0]"
   ]
  },
  {
   "cell_type": "code",
   "execution_count": 18,
   "id": "b97a59e8",
   "metadata": {},
   "outputs": [],
   "source": [
    "import faiss\n",
    "import json\n",
    "\n",
    "dim = embeddings.shape[1]\n",
    "index = faiss.IndexFlatL2(dim)\n",
    "index.add(embeddings)\n",
    "faiss.write_index(index, 'traffic_rules.index')\n",
    "\n",
    "with open('chunks.json', 'w') as f:\n",
    "    json.dump(chunks, f)"
   ]
  }
 ],
 "metadata": {
  "kernelspec": {
   "display_name": ".venv",
   "language": "python",
   "name": "python3"
  },
  "language_info": {
   "codemirror_mode": {
    "name": "ipython",
    "version": 3
   },
   "file_extension": ".py",
   "mimetype": "text/x-python",
   "name": "python",
   "nbconvert_exporter": "python",
   "pygments_lexer": "ipython3",
   "version": "3.12.3"
  }
 },
 "nbformat": 4,
 "nbformat_minor": 5
}
